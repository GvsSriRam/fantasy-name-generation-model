{
  "cells": [
    {
      "cell_type": "markdown",
      "metadata": {
        "id": "view-in-github",
        "colab_type": "text"
      },
      "source": [
        "<a href=\"https://colab.research.google.com/github/GvsSriRam/fantasy-name-generation-model/blob/main/Superhero_Name_Generator_Learner.ipynb\" target=\"_parent\"><img src=\"https://colab.research.google.com/assets/colab-badge.svg\" alt=\"Open In Colab\"/></a>"
      ]
    },
    {
      "cell_type": "markdown",
      "metadata": {
        "id": "21XXWP7Fpt2L"
      },
      "source": [
        "# Superhero (and Supervillain) Name Generator\n",
        "\n",
        "---\n",
        "\n",
        "[Superhero Names Dataset](https://github.com/am1tyadav/superhero)"
      ]
    },
    {
      "cell_type": "markdown",
      "metadata": {
        "id": "H6P0NU5Cpt2R"
      },
      "source": [
        "## Task 2\n",
        "\n",
        "1. Import the data\n",
        "2. Create a tokenizer\n",
        "3. Char to index and Index to char dictionaries"
      ]
    },
    {
      "cell_type": "code",
      "execution_count": null,
      "metadata": {
        "id": "srULhalZpt2M",
        "colab": {
          "base_uri": "https://localhost:8080/"
        },
        "outputId": "e4cb7314-8463-4a3e-c43c-e941bb7bbe08"
      },
      "outputs": [
        {
          "output_type": "stream",
          "name": "stdout",
          "text": [
            "fatal: destination path 'superhero' already exists and is not an empty directory.\n"
          ]
        }
      ],
      "source": [
        "!git clone https://github.com/am1tyadav/superhero"
      ]
    },
    {
      "cell_type": "code",
      "execution_count": null,
      "metadata": {
        "id": "uq4CLmsLpt2P",
        "colab": {
          "base_uri": "https://localhost:8080/",
          "height": 35
        },
        "outputId": "74f4678d-0cbb-4f97-b431-70b4eaee138f"
      },
      "outputs": [
        {
          "output_type": "execute_result",
          "data": {
            "text/plain": [
              "'jumpa\\t\\ndoctor fate\\t\\nstarlight\\t\\nisildur\\t\\nlasher\\t\\nvarvara\\t\\nthe target\\t\\naxel\\t\\nbattra\\t\\nchangeling\\t\\npyrrh'"
            ],
            "application/vnd.google.colaboratory.intrinsic+json": {
              "type": "string"
            }
          },
          "metadata": {},
          "execution_count": 2
        }
      ],
      "source": [
        "with open('superhero/superheroes.txt') as f:\n",
        "  data = f.read()\n",
        "\n",
        "data[:100]"
      ]
    },
    {
      "cell_type": "code",
      "execution_count": null,
      "metadata": {
        "id": "JqhtLuAHpt2R"
      },
      "outputs": [],
      "source": [
        "import tensorflow as tf"
      ]
    },
    {
      "cell_type": "code",
      "source": [
        "tf.__version__"
      ],
      "metadata": {
        "colab": {
          "base_uri": "https://localhost:8080/",
          "height": 35
        },
        "id": "YTHYB43Y6Xx4",
        "outputId": "75fb6fa4-10e9-48fb-c3c9-867188087ea5"
      },
      "execution_count": null,
      "outputs": [
        {
          "output_type": "execute_result",
          "data": {
            "text/plain": [
              "'2.9.2'"
            ],
            "application/vnd.google.colaboratory.intrinsic+json": {
              "type": "string"
            }
          },
          "metadata": {},
          "execution_count": 4
        }
      ]
    },
    {
      "cell_type": "code",
      "execution_count": null,
      "metadata": {
        "id": "95Lo1Yqzpt2T"
      },
      "outputs": [],
      "source": [
        "tokenizer = tf.keras.preprocessing.text.Tokenizer(\n",
        "    filters='!\"#$%&()*+,-./:;<=>?@[\\\\]^_`{|}~',\n",
        "    split='\\n',\n",
        ")"
      ]
    },
    {
      "cell_type": "code",
      "execution_count": null,
      "metadata": {
        "id": "qYfC4sj2pt2V"
      },
      "outputs": [],
      "source": [
        "tokenizer.fit_on_texts(data)"
      ]
    },
    {
      "cell_type": "code",
      "execution_count": null,
      "metadata": {
        "id": "EO4-dPM6pt2X",
        "colab": {
          "base_uri": "https://localhost:8080/"
        },
        "outputId": "cbe2e7ec-e130-4f99-a9f3-560366306197"
      },
      "outputs": [
        {
          "output_type": "execute_result",
          "data": {
            "text/plain": [
              "{1: '\\t',\n",
              " 2: 'a',\n",
              " 3: 'e',\n",
              " 4: 'r',\n",
              " 5: 'o',\n",
              " 6: 'n',\n",
              " 7: 'i',\n",
              " 8: ' ',\n",
              " 9: 't',\n",
              " 10: 's',\n",
              " 11: 'l',\n",
              " 12: 'm',\n",
              " 13: 'h',\n",
              " 14: 'd',\n",
              " 15: 'c',\n",
              " 16: 'u',\n",
              " 17: 'g',\n",
              " 18: 'k',\n",
              " 19: 'b',\n",
              " 20: 'p',\n",
              " 21: 'y',\n",
              " 22: 'w',\n",
              " 23: 'f',\n",
              " 24: 'v',\n",
              " 25: 'j',\n",
              " 26: 'z',\n",
              " 27: 'x',\n",
              " 28: 'q'}"
            ]
          },
          "metadata": {},
          "execution_count": 7
        }
      ],
      "source": [
        "char_to_index = tokenizer.word_index\n",
        "index_to_char = dict((v,k) for k,v in char_to_index.items())\n",
        "\n",
        "index_to_char"
      ]
    },
    {
      "cell_type": "markdown",
      "metadata": {
        "id": "SMwtIw_Bpt2Z"
      },
      "source": [
        "## Task 3\n",
        "\n",
        "1. Converting between names and sequences"
      ]
    },
    {
      "cell_type": "code",
      "execution_count": null,
      "metadata": {
        "id": "N7iQLIXzpt2a",
        "colab": {
          "base_uri": "https://localhost:8080/"
        },
        "outputId": "9b309abc-9e42-416a-f546-6424fa37d722"
      },
      "outputs": [
        {
          "output_type": "execute_result",
          "data": {
            "text/plain": [
              "['jumpa\\t', 'doctor fate\\t', 'starlight\\t', 'isildur\\t', 'lasher\\t']"
            ]
          },
          "metadata": {},
          "execution_count": 8
        }
      ],
      "source": [
        "names = data.splitlines()\n",
        "names[:5]"
      ]
    },
    {
      "cell_type": "code",
      "execution_count": null,
      "metadata": {
        "id": "n_-TTfqipt2c",
        "colab": {
          "base_uri": "https://localhost:8080/"
        },
        "outputId": "7b02e301-fd12-4652-ad7b-b692d2b753e3"
      },
      "outputs": [
        {
          "output_type": "execute_result",
          "data": {
            "text/plain": [
              "[[25], [16], [12], [20], [2], [1]]"
            ]
          },
          "metadata": {},
          "execution_count": 9
        }
      ],
      "source": [
        "tokenizer.texts_to_sequences(names[0])"
      ]
    },
    {
      "cell_type": "code",
      "execution_count": null,
      "metadata": {
        "id": "P6IsKH1Upt2e"
      },
      "outputs": [],
      "source": [
        "def name_to_sequence(name):\n",
        "  return [tokenizer.texts_to_sequences(c)[0][0] for c in name]"
      ]
    },
    {
      "cell_type": "code",
      "execution_count": null,
      "metadata": {
        "id": "TuLUiMP3pt2g",
        "colab": {
          "base_uri": "https://localhost:8080/"
        },
        "outputId": "4eb23fc4-6928-4b24-f42b-19699d8d290e"
      },
      "outputs": [
        {
          "output_type": "execute_result",
          "data": {
            "text/plain": [
              "[25, 16, 12, 20, 2, 1]"
            ]
          },
          "metadata": {},
          "execution_count": 11
        }
      ],
      "source": [
        "name_to_sequence(names[0])"
      ]
    },
    {
      "cell_type": "code",
      "execution_count": null,
      "metadata": {
        "id": "yFUYhimKpt2h"
      },
      "outputs": [],
      "source": [
        "def sequence_to_name(seq):\n",
        "  return \"\".join([index_to_char[i] for i in seq if i!=0])"
      ]
    },
    {
      "cell_type": "code",
      "execution_count": null,
      "metadata": {
        "id": "ROhCqmhLpt2k",
        "colab": {
          "base_uri": "https://localhost:8080/",
          "height": 35
        },
        "outputId": "c8027a82-d592-4764-aa1a-ff3aa4313363"
      },
      "outputs": [
        {
          "output_type": "execute_result",
          "data": {
            "text/plain": [
              "'jumpa\\t'"
            ],
            "application/vnd.google.colaboratory.intrinsic+json": {
              "type": "string"
            }
          },
          "metadata": {},
          "execution_count": 13
        }
      ],
      "source": [
        "sequence_to_name(name_to_sequence(names[0]))"
      ]
    },
    {
      "cell_type": "markdown",
      "metadata": {
        "id": "uCbAzsNjpt2m"
      },
      "source": [
        "## Task 4\n",
        "\n",
        "1. Creating sequences\n",
        "2. Padding all sequences"
      ]
    },
    {
      "cell_type": "code",
      "execution_count": null,
      "metadata": {
        "id": "zstNn-0dpt2m"
      },
      "outputs": [],
      "source": [
        "sequences = []\n",
        "\n",
        "for name in names:\n",
        "  seq = name_to_sequence(name)\n",
        "  if len (seq) >= 2: # to ensure the example looks good\n",
        "    sequences += [seq[:i] for i in range(2, len(seq) + 1)]"
      ]
    },
    {
      "cell_type": "code",
      "execution_count": null,
      "metadata": {
        "id": "BjRTMysvpt2o",
        "colab": {
          "base_uri": "https://localhost:8080/"
        },
        "outputId": "bda2ddbd-a390-4305-bb90-3d2315d1a901"
      },
      "outputs": [
        {
          "output_type": "execute_result",
          "data": {
            "text/plain": [
              "[[25, 16],\n",
              " [25, 16, 12],\n",
              " [25, 16, 12, 20],\n",
              " [25, 16, 12, 20, 2],\n",
              " [25, 16, 12, 20, 2, 1],\n",
              " [14, 5],\n",
              " [14, 5, 15],\n",
              " [14, 5, 15, 9],\n",
              " [14, 5, 15, 9, 5],\n",
              " [14, 5, 15, 9, 5, 4]]"
            ]
          },
          "metadata": {},
          "execution_count": 15
        }
      ],
      "source": [
        "sequences[:10]"
      ]
    },
    {
      "cell_type": "code",
      "execution_count": null,
      "metadata": {
        "id": "SR68pu2tpt2q",
        "colab": {
          "base_uri": "https://localhost:8080/"
        },
        "outputId": "556590e3-1d48-4b35-9fb9-aeb1e9206378"
      },
      "outputs": [
        {
          "output_type": "execute_result",
          "data": {
            "text/plain": [
              "33"
            ]
          },
          "metadata": {},
          "execution_count": 16
        }
      ],
      "source": [
        "# specify max length - fixed length is ensured with '0' padding\n",
        "max_len = max([len(x) for x in sequences])\n",
        "max_len"
      ]
    },
    {
      "cell_type": "code",
      "execution_count": null,
      "metadata": {
        "id": "h_1BtWO7pt2r",
        "colab": {
          "base_uri": "https://localhost:8080/"
        },
        "outputId": "8a469723-4e20-4e9e-ae02-da50a7798f9c"
      },
      "outputs": [
        {
          "output_type": "execute_result",
          "data": {
            "text/plain": [
              "array([[ 0,  0,  0,  0,  0,  0,  0,  0,  0,  0,  0,  0,  0,  0,  0,  0,\n",
              "         0,  0,  0,  0,  0,  0,  0,  0,  0,  0,  0,  0,  0,  0,  0, 25,\n",
              "        16],\n",
              "       [ 0,  0,  0,  0,  0,  0,  0,  0,  0,  0,  0,  0,  0,  0,  0,  0,\n",
              "         0,  0,  0,  0,  0,  0,  0,  0,  0,  0,  0,  0,  0,  0, 25, 16,\n",
              "        12],\n",
              "       [ 0,  0,  0,  0,  0,  0,  0,  0,  0,  0,  0,  0,  0,  0,  0,  0,\n",
              "         0,  0,  0,  0,  0,  0,  0,  0,  0,  0,  0,  0,  0, 25, 16, 12,\n",
              "        20],\n",
              "       [ 0,  0,  0,  0,  0,  0,  0,  0,  0,  0,  0,  0,  0,  0,  0,  0,\n",
              "         0,  0,  0,  0,  0,  0,  0,  0,  0,  0,  0,  0, 25, 16, 12, 20,\n",
              "         2],\n",
              "       [ 0,  0,  0,  0,  0,  0,  0,  0,  0,  0,  0,  0,  0,  0,  0,  0,\n",
              "         0,  0,  0,  0,  0,  0,  0,  0,  0,  0,  0, 25, 16, 12, 20,  2,\n",
              "         1],\n",
              "       [ 0,  0,  0,  0,  0,  0,  0,  0,  0,  0,  0,  0,  0,  0,  0,  0,\n",
              "         0,  0,  0,  0,  0,  0,  0,  0,  0,  0,  0,  0,  0,  0,  0, 14,\n",
              "         5],\n",
              "       [ 0,  0,  0,  0,  0,  0,  0,  0,  0,  0,  0,  0,  0,  0,  0,  0,\n",
              "         0,  0,  0,  0,  0,  0,  0,  0,  0,  0,  0,  0,  0,  0, 14,  5,\n",
              "        15],\n",
              "       [ 0,  0,  0,  0,  0,  0,  0,  0,  0,  0,  0,  0,  0,  0,  0,  0,\n",
              "         0,  0,  0,  0,  0,  0,  0,  0,  0,  0,  0,  0,  0, 14,  5, 15,\n",
              "         9],\n",
              "       [ 0,  0,  0,  0,  0,  0,  0,  0,  0,  0,  0,  0,  0,  0,  0,  0,\n",
              "         0,  0,  0,  0,  0,  0,  0,  0,  0,  0,  0,  0, 14,  5, 15,  9,\n",
              "         5],\n",
              "       [ 0,  0,  0,  0,  0,  0,  0,  0,  0,  0,  0,  0,  0,  0,  0,  0,\n",
              "         0,  0,  0,  0,  0,  0,  0,  0,  0,  0,  0, 14,  5, 15,  9,  5,\n",
              "         4]], dtype=int32)"
            ]
          },
          "metadata": {},
          "execution_count": 17
        }
      ],
      "source": [
        "padded_sequences = tf.keras.preprocessing.sequence.pad_sequences(\n",
        "    sequences, padding='pre', maxlen = max_len\n",
        ")\n",
        "\n",
        "padded_sequences[:10]"
      ]
    },
    {
      "cell_type": "code",
      "execution_count": null,
      "metadata": {
        "id": "sPlrLRpSpt2t",
        "colab": {
          "base_uri": "https://localhost:8080/"
        },
        "outputId": "3a490ccf-e59e-4c1c-f8df-0bb297d636c0"
      },
      "outputs": [
        {
          "output_type": "execute_result",
          "data": {
            "text/plain": [
              "(88279, 33)"
            ]
          },
          "metadata": {},
          "execution_count": 18
        }
      ],
      "source": [
        "padded_sequences.shape"
      ]
    },
    {
      "cell_type": "markdown",
      "metadata": {
        "id": "Ij0ry8S85LdF"
      },
      "source": [
        "## Task 5: Creating Training and Validation Sets\n",
        "\n",
        "1. Creating training and validation sets"
      ]
    },
    {
      "cell_type": "code",
      "execution_count": null,
      "metadata": {
        "id": "BE4BIeSnpt2v",
        "colab": {
          "base_uri": "https://localhost:8080/"
        },
        "outputId": "9d9dea66-84a2-46e6-bc20-1b5030e7c2d8"
      },
      "outputs": [
        {
          "output_type": "stream",
          "name": "stdout",
          "text": [
            "(88279, 32) (88279,)\n"
          ]
        }
      ],
      "source": [
        "x, y = padded_sequences[:, :-1], padded_sequences[:, -1]\n",
        "print(x.shape, y.shape)"
      ]
    },
    {
      "cell_type": "code",
      "execution_count": null,
      "metadata": {
        "id": "e4J5DYeN5LdG",
        "colab": {
          "base_uri": "https://localhost:8080/"
        },
        "outputId": "a9728c81-0345-44eb-893e-e63704372c88"
      },
      "outputs": [
        {
          "output_type": "stream",
          "name": "stdout",
          "text": [
            "(66209, 32) (66209,)\n",
            "(22070, 32) (22070,)\n"
          ]
        }
      ],
      "source": [
        "from sklearn.model_selection import train_test_split\n",
        "\n",
        "x_train, x_test, y_train, y_test = train_test_split(x,y)\n",
        "\n",
        "print(x_train.shape, y_train.shape)\n",
        "print(x_test.shape, y_test.shape)"
      ]
    },
    {
      "cell_type": "code",
      "execution_count": null,
      "metadata": {
        "id": "cgqRZtqnpt2x",
        "colab": {
          "base_uri": "https://localhost:8080/"
        },
        "outputId": "a326d5b3-3f97-4f0b-e5aa-ea9be2962639"
      },
      "outputs": [
        {
          "output_type": "stream",
          "name": "stdout",
          "text": [
            "29\n"
          ]
        }
      ],
      "source": [
        "num_chars = len(char_to_index.keys()) + 1\n",
        "print(num_chars)"
      ]
    },
    {
      "cell_type": "markdown",
      "metadata": {
        "id": "FnpbEORN5LdG"
      },
      "source": [
        "## Task 6: Creating the Model"
      ]
    },
    {
      "cell_type": "code",
      "execution_count": null,
      "metadata": {
        "id": "dscBEgod5Ldd",
        "colab": {
          "base_uri": "https://localhost:8080/"
        },
        "outputId": "22c999df-9104-4407-8a49-63ec7ffbd104"
      },
      "outputs": [
        {
          "output_type": "stream",
          "name": "stdout",
          "text": [
            "Model: \"sequential_2\"\n",
            "_________________________________________________________________\n",
            " Layer (type)                Output Shape              Param #   \n",
            "=================================================================\n",
            " embedding_3 (Embedding)     (None, 32, 8)             232       \n",
            "                                                                 \n",
            " conv1d_2 (Conv1D)           (None, 32, 64)            2624      \n",
            "                                                                 \n",
            " max_pooling1d_1 (MaxPooling  (None, 16, 64)           0         \n",
            " 1D)                                                             \n",
            "                                                                 \n",
            " lstm_1 (LSTM)               (None, 32)                12416     \n",
            "                                                                 \n",
            " dense_1 (Dense)             (None, 29)                957       \n",
            "                                                                 \n",
            "=================================================================\n",
            "Total params: 16,229\n",
            "Trainable params: 16,229\n",
            "Non-trainable params: 0\n",
            "_________________________________________________________________\n"
          ]
        }
      ],
      "source": [
        "from tensorflow.keras.models import Sequential\n",
        "from tensorflow.keras.layers import Embedding, Conv1D, MaxPool1D, LSTM, Bidirectional, Dense\n",
        "\n",
        "model = Sequential([\n",
        "    Embedding(num_chars, 8, input_length=max_len-1), \n",
        "    Conv1D(64, 5, strides=1, activation='tanh', padding='causal'), #casual results in dilated, temporal order is not violated => output at a timestep depends on the previous timestep itself.\n",
        "    MaxPool1D(2), #to reduce the output dimensions\n",
        "    LSTM(32), # can use another LSTM to make it complex\n",
        "    Dense(num_chars, activation='softmax')\n",
        "])\n",
        "\n",
        "model.compile(loss='sparse_categorical_crossentropy', optimizer='adam', metrics=['accuracy'])\n",
        "\n",
        "model.summary()"
      ]
    },
    {
      "cell_type": "markdown",
      "metadata": {
        "id": "EEhhJi3g5Lde"
      },
      "source": [
        "## Task 7: Training the Model"
      ]
    },
    {
      "cell_type": "code",
      "execution_count": null,
      "metadata": {
        "id": "j0Ssl4qupt22",
        "colab": {
          "base_uri": "https://localhost:8080/"
        },
        "outputId": "6de6bd4d-c22f-42aa-c47a-cdcf8bd42188"
      },
      "outputs": [
        {
          "output_type": "stream",
          "name": "stdout",
          "text": [
            "Epoch 1/50\n",
            "2070/2070 - 22s - loss: 2.7531 - accuracy: 0.1889 - val_loss: 2.5991 - val_accuracy: 0.2200 - 22s/epoch - 11ms/step\n",
            "Epoch 2/50\n",
            "2070/2070 - 11s - loss: 2.5526 - accuracy: 0.2318 - val_loss: 2.5019 - val_accuracy: 0.2502 - 11s/epoch - 5ms/step\n",
            "Epoch 3/50\n",
            "2070/2070 - 11s - loss: 2.4708 - accuracy: 0.2571 - val_loss: 2.4478 - val_accuracy: 0.2628 - 11s/epoch - 6ms/step\n",
            "Epoch 4/50\n",
            "2070/2070 - 11s - loss: 2.4215 - accuracy: 0.2730 - val_loss: 2.4137 - val_accuracy: 0.2720 - 11s/epoch - 5ms/step\n",
            "Epoch 5/50\n",
            "2070/2070 - 11s - loss: 2.3863 - accuracy: 0.2769 - val_loss: 2.3855 - val_accuracy: 0.2803 - 11s/epoch - 5ms/step\n",
            "Epoch 6/50\n",
            "2070/2070 - 11s - loss: 2.3564 - accuracy: 0.2870 - val_loss: 2.3578 - val_accuracy: 0.2856 - 11s/epoch - 5ms/step\n",
            "Epoch 7/50\n",
            "2070/2070 - 11s - loss: 2.3301 - accuracy: 0.2930 - val_loss: 2.3445 - val_accuracy: 0.2894 - 11s/epoch - 5ms/step\n",
            "Epoch 8/50\n",
            "2070/2070 - 11s - loss: 2.3067 - accuracy: 0.3005 - val_loss: 2.3253 - val_accuracy: 0.2955 - 11s/epoch - 6ms/step\n",
            "Epoch 9/50\n",
            "2070/2070 - 11s - loss: 2.2853 - accuracy: 0.3092 - val_loss: 2.3080 - val_accuracy: 0.2999 - 11s/epoch - 6ms/step\n",
            "Epoch 10/50\n",
            "2070/2070 - 11s - loss: 2.2659 - accuracy: 0.3149 - val_loss: 2.2967 - val_accuracy: 0.3043 - 11s/epoch - 5ms/step\n",
            "Epoch 11/50\n",
            "2070/2070 - 11s - loss: 2.2483 - accuracy: 0.3207 - val_loss: 2.2853 - val_accuracy: 0.3083 - 11s/epoch - 6ms/step\n",
            "Epoch 12/50\n",
            "2070/2070 - 11s - loss: 2.2330 - accuracy: 0.3247 - val_loss: 2.2751 - val_accuracy: 0.3117 - 11s/epoch - 5ms/step\n",
            "Epoch 13/50\n",
            "2070/2070 - 11s - loss: 2.2169 - accuracy: 0.3306 - val_loss: 2.2667 - val_accuracy: 0.3141 - 11s/epoch - 6ms/step\n",
            "Epoch 14/50\n",
            "2070/2070 - 12s - loss: 2.2028 - accuracy: 0.3350 - val_loss: 2.2581 - val_accuracy: 0.3171 - 12s/epoch - 6ms/step\n",
            "Epoch 15/50\n",
            "2070/2070 - 12s - loss: 2.1891 - accuracy: 0.3403 - val_loss: 2.2502 - val_accuracy: 0.3215 - 12s/epoch - 6ms/step\n",
            "Epoch 16/50\n",
            "2070/2070 - 11s - loss: 2.1767 - accuracy: 0.3429 - val_loss: 2.2495 - val_accuracy: 0.3238 - 11s/epoch - 5ms/step\n",
            "Epoch 17/50\n",
            "2070/2070 - 11s - loss: 2.1649 - accuracy: 0.3486 - val_loss: 2.2377 - val_accuracy: 0.3252 - 11s/epoch - 5ms/step\n",
            "Epoch 18/50\n",
            "2070/2070 - 11s - loss: 2.1535 - accuracy: 0.3523 - val_loss: 2.2351 - val_accuracy: 0.3286 - 11s/epoch - 6ms/step\n",
            "Epoch 19/50\n",
            "2070/2070 - 12s - loss: 2.1435 - accuracy: 0.3563 - val_loss: 2.2345 - val_accuracy: 0.3326 - 12s/epoch - 6ms/step\n",
            "Epoch 20/50\n",
            "2070/2070 - 12s - loss: 2.1336 - accuracy: 0.3604 - val_loss: 2.2302 - val_accuracy: 0.3337 - 12s/epoch - 6ms/step\n",
            "Epoch 21/50\n",
            "2070/2070 - 11s - loss: 2.1243 - accuracy: 0.3620 - val_loss: 2.2285 - val_accuracy: 0.3344 - 11s/epoch - 5ms/step\n",
            "Epoch 22/50\n",
            "2070/2070 - 11s - loss: 2.1163 - accuracy: 0.3642 - val_loss: 2.2254 - val_accuracy: 0.3308 - 11s/epoch - 6ms/step\n",
            "Epoch 23/50\n",
            "2070/2070 - 11s - loss: 2.1074 - accuracy: 0.3701 - val_loss: 2.2205 - val_accuracy: 0.3350 - 11s/epoch - 5ms/step\n",
            "Epoch 24/50\n",
            "2070/2070 - 12s - loss: 2.1000 - accuracy: 0.3717 - val_loss: 2.2205 - val_accuracy: 0.3362 - 12s/epoch - 6ms/step\n",
            "Epoch 25/50\n",
            "2070/2070 - 12s - loss: 2.0921 - accuracy: 0.3749 - val_loss: 2.2172 - val_accuracy: 0.3378 - 12s/epoch - 6ms/step\n",
            "Epoch 26/50\n",
            "2070/2070 - 12s - loss: 2.0848 - accuracy: 0.3760 - val_loss: 2.2161 - val_accuracy: 0.3399 - 12s/epoch - 6ms/step\n",
            "Epoch 27/50\n",
            "2070/2070 - 12s - loss: 2.0779 - accuracy: 0.3783 - val_loss: 2.2152 - val_accuracy: 0.3422 - 12s/epoch - 6ms/step\n",
            "Epoch 28/50\n",
            "2070/2070 - 11s - loss: 2.0710 - accuracy: 0.3812 - val_loss: 2.2132 - val_accuracy: 0.3396 - 11s/epoch - 5ms/step\n",
            "Epoch 29/50\n",
            "2070/2070 - 12s - loss: 2.0647 - accuracy: 0.3820 - val_loss: 2.2161 - val_accuracy: 0.3414 - 12s/epoch - 6ms/step\n",
            "Epoch 30/50\n",
            "2070/2070 - 12s - loss: 2.0590 - accuracy: 0.3842 - val_loss: 2.2143 - val_accuracy: 0.3416 - 12s/epoch - 6ms/step\n"
          ]
        }
      ],
      "source": [
        "hist = model.fit(\n",
        "    x_train, y_train,\n",
        "    validation_data=(x_test, y_test),\n",
        "    verbose=2,\n",
        "    epochs=50,\n",
        "    callbacks=[\n",
        "        tf.keras.callbacks.EarlyStopping(monitor='val_accuracy', patience=3)\n",
        "        ]\n",
        ")"
      ]
    },
    {
      "cell_type": "markdown",
      "metadata": {
        "id": "6GB0PajA5Lde"
      },
      "source": [
        "## Task 8: Generate Names!"
      ]
    },
    {
      "cell_type": "code",
      "execution_count": null,
      "metadata": {
        "id": "9f50aTRcpt24",
        "colab": {
          "base_uri": "https://localhost:8080/",
          "height": 265
        },
        "outputId": "72df5c05-3bf0-431f-cb30-f080e81a057b"
      },
      "outputs": [
        {
          "output_type": "display_data",
          "data": {
            "text/plain": [
              "<Figure size 432x288 with 1 Axes>"
            ],
            "image/png": "[encoded data removed]"
          },
          "metadata": {
            "needs_background": "light"
          }
        }
      ],
      "source": [
        "from matplotlib import pyplot as plt\n",
        "epochs_ran = len(hist.history['loss'])\n",
        "\n",
        "plt.plot(range(0, epochs_ran), hist.history['val_accuracy'], label='Validation')\n",
        "plt.plot(range(0, epochs_ran), hist.history['accuracy'], label='Training')\n",
        "plt.legend()\n",
        "plt.show()"
      ]
    },
    {
      "cell_type": "code",
      "execution_count": null,
      "metadata": {
        "id": "faQ0FInlpt26"
      },
      "outputs": [],
      "source": [
        "def generate_names(seed): # single char or sequence of chars\n",
        "  for i in range(0, 40):\n",
        "    seq = name_to_sequence(seed)\n",
        "    padded = tf.keras.preprocessing.sequence.pad_sequences(\n",
        "        [seq], padding='pre',\n",
        "        maxlen=max_len-1, truncating='pre'\n",
        "        )\n",
        "    pred = model.predict(padded)[0]\n",
        "    pred_char_index = tf.argmax(pred).numpy()\n",
        "    pred_char = index_to_char[pred_char_index]\n",
        "    \n",
        "    if pred_char != '\\t':\n",
        "      seed += pred_char\n",
        "    else:\n",
        "      break\n",
        "  return seed"
      ]
    },
    {
      "cell_type": "code",
      "source": [
        "generate_names('x')"
      ],
      "metadata": {
        "colab": {
          "base_uri": "https://localhost:8080/",
          "height": 222
        },
        "id": "1uuEozLbMmW8",
        "outputId": "5bbd0747-f6ec-4f44-8e29-d6dea76eb3ff"
      },
      "execution_count": null,
      "outputs": [
        {
          "output_type": "stream",
          "name": "stdout",
          "text": [
            "1/1 [==============================] - 0s 16ms/step\n",
            "1/1 [==============================] - 0s 17ms/step\n",
            "1/1 [==============================] - 0s 15ms/step\n",
            "1/1 [==============================] - 0s 18ms/step\n",
            "1/1 [==============================] - 0s 15ms/step\n",
            "1/1 [==============================] - 0s 18ms/step\n",
            "1/1 [==============================] - 0s 16ms/step\n",
            "1/1 [==============================] - 0s 19ms/step\n",
            "1/1 [==============================] - 0s 20ms/step\n",
            "1/1 [==============================] - 0s 19ms/step\n",
            "1/1 [==============================] - 0s 17ms/step\n"
          ]
        },
        {
          "output_type": "execute_result",
          "data": {
            "text/plain": [
              "'xena surdon'"
            ],
            "application/vnd.google.colaboratory.intrinsic+json": {
              "type": "string"
            }
          },
          "metadata": {},
          "execution_count": 49
        }
      ]
    },
    {
      "cell_type": "code",
      "source": [],
      "metadata": {
        "id": "5sr4LQF1Mrfc"
      },
      "execution_count": null,
      "outputs": []
    }
  ],
  "metadata": {
    "accelerator": "GPU",
    "colab": {
      "collapsed_sections": [],
      "provenance": [],
      "include_colab_link": true
    },
    "kernelspec": {
      "display_name": "Python 3",
      "language": "python",
      "name": "python3"
    },
    "language_info": {
      "codemirror_mode": {
        "name": "ipython",
        "version": 3
      },
      "file_extension": ".py",
      "mimetype": "text/x-python",
      "name": "python",
      "nbconvert_exporter": "python",
      "pygments_lexer": "ipython3",
      "version": "3.8.3"
    }
  },
  "nbformat": 4,
  "nbformat_minor": 0
}